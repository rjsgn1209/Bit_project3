{
 "cells": [
  {
   "cell_type": "code",
   "execution_count": 5,
   "id": "84b1578a",
   "metadata": {},
   "outputs": [],
   "source": [
    "import requests\n",
    "from bs4 import BeautifulSoup\n",
    "from selenium import webdriver\n",
    "from selenium.webdriver.common import keys\n",
    "from selenium.webdriver.common.action_chains import ActionChains\n",
    "import os, urllib\n",
    "import re"
   ]
  },
  {
   "cell_type": "code",
   "execution_count": 2,
   "id": "0088d815",
   "metadata": {},
   "outputs": [],
   "source": [
    "import pandas as pd\n",
    "import numpy as np\n",
    "import matplotlib.pyplot as plt\n",
    "import seaborn as sns"
   ]
  },
  {
   "cell_type": "code",
   "execution_count": 3,
   "id": "65d940dd",
   "metadata": {},
   "outputs": [
    {
     "data": {
      "text/html": [
       "<div>\n",
       "<style scoped>\n",
       "    .dataframe tbody tr th:only-of-type {\n",
       "        vertical-align: middle;\n",
       "    }\n",
       "\n",
       "    .dataframe tbody tr th {\n",
       "        vertical-align: top;\n",
       "    }\n",
       "\n",
       "    .dataframe thead th {\n",
       "        text-align: right;\n",
       "    }\n",
       "</style>\n",
       "<table border=\"1\" class=\"dataframe\">\n",
       "  <thead>\n",
       "    <tr style=\"text-align: right;\">\n",
       "      <th></th>\n",
       "      <th>나라</th>\n",
       "      <th>관광지</th>\n",
       "      <th>en나라</th>\n",
       "      <th>en관광지</th>\n",
       "      <th>유형</th>\n",
       "      <th>Unnamed: 5</th>\n",
       "    </tr>\n",
       "  </thead>\n",
       "  <tbody>\n",
       "    <tr>\n",
       "      <th>0</th>\n",
       "      <td>미국</td>\n",
       "      <td>그리피스 천문대</td>\n",
       "      <td>America</td>\n",
       "      <td>Griffith Observatory</td>\n",
       "      <td>건축물</td>\n",
       "      <td>NaN</td>\n",
       "    </tr>\n",
       "    <tr>\n",
       "      <th>1</th>\n",
       "      <td>미국</td>\n",
       "      <td>자유의 여신상</td>\n",
       "      <td>America</td>\n",
       "      <td>Statue of Liberty</td>\n",
       "      <td>조형물</td>\n",
       "      <td>NaN</td>\n",
       "    </tr>\n",
       "    <tr>\n",
       "      <th>2</th>\n",
       "      <td>호주</td>\n",
       "      <td>시드니 오페라 하우스</td>\n",
       "      <td>Australia</td>\n",
       "      <td>Sydney Opera House</td>\n",
       "      <td>건축물</td>\n",
       "      <td>랜드마크</td>\n",
       "    </tr>\n",
       "  </tbody>\n",
       "</table>\n",
       "</div>"
      ],
      "text/plain": [
       "   나라          관광지       en나라                 en관광지   유형 Unnamed: 5\n",
       "0  미국     그리피스 천문대    America  Griffith Observatory  건축물        NaN\n",
       "1  미국      자유의 여신상    America     Statue of Liberty  조형물        NaN\n",
       "2  호주  시드니 오페라 하우스  Australia    Sydney Opera House  건축물       랜드마크"
      ]
     },
     "execution_count": 3,
     "metadata": {},
     "output_type": "execute_result"
    }
   ],
   "source": [
    "df1 = pd.read_excel('data_file/여행지 라벨.xlsx')\n",
    "df2 = pd.read_excel('data_file/나라별 여행지 라벨.xlsx')\n",
    "df1.head(3)"
   ]
  },
  {
   "cell_type": "code",
   "execution_count": 108,
   "id": "1230ef11",
   "metadata": {
    "collapsed": true
   },
   "outputs": [
    {
     "data": {
      "text/plain": [
       "array(['Griffith Observatory', 'Statue of Liberty', 'Sydney Opera House',\n",
       "       'Corcovado', 'Escadaria Selaron', 'Angkor Wat', 'Easter Island',\n",
       "       'Canton Tower', 'qin terracotta warriors', 'The Great Wall',\n",
       "       'Forbidden City', 'Potala Palace', 'Staromestske namesti',\n",
       "       'Temple of Karnak', 'Colossi of Memnon', 'Egypt Pyramid',\n",
       "       'abu simbel', 'Stonehenge', 'Tower Bridge', \"St. Paul's Cathedral\",\n",
       "       'Louvre Museum', 'Eiffel Tower', 'Cathedrale Notre-Dame de Paris',\n",
       "       'Arc de Triomphe', 'Sainte-Chapelle', 'Moulin Rouge',\n",
       "       'Hotel de Ville', 'Neuschwanstein', 'Brandenburg Gate',\n",
       "       'Berliner Dom', 'Hamburg Town Hall', 'Cologne Cathedral',\n",
       "       'Rothenburg', 'Santorini', 'Gateway of India', 'Qutub Minar',\n",
       "       'Taj Mahal', 'Golden Temple', 'Borobudur', 'Western Wall',\n",
       "       'Tower of David', 'Colosseum', 'Trevi Fountain', 'Pantheon',\n",
       "       'Bocca della Verita', 'Arco di Costantino',\n",
       "       'Basilica di San Marco', 'Ponte di Rialto',\n",
       "       'Campanile di San Marco', 'Leaning Tower of Pisa', 'Osaka Castle',\n",
       "       'Kinkakuji Temple', 'Petra', 'Baalbek', 'Petronas Twin Tower',\n",
       "       'Penang temple', 'Koutoubia Mosque', 'Teotihuacan', 'Chichen Itza',\n",
       "       'Ananda Temple', 'Shwezigon', 'Dhammayangyi Temple',\n",
       "       'Shwedagon Pagoda', 'Machu Picchu', 'Mecca', 'Gardens by the Bay',\n",
       "       'Sagrada Familia', 'Casa Batllo', 'Parc Guell', 'Cordoba Mezquita',\n",
       "       'Taipei 101', 'Taipei Temple', 'The Sanctuary Of Truth',\n",
       "       'The Grand Palace', 'Wat Arun', 'Wat Phra Kaew', 'Blue Mosque',\n",
       "       'Basilica Cistern', \"Hadrian's Gate\", 'Burj Khalifa'], dtype=object)"
      ]
     },
     "execution_count": 108,
     "metadata": {},
     "output_type": "execute_result"
    }
   ],
   "source": [
    "df1['en관광지'].values"
   ]
  },
  {
   "cell_type": "code",
   "execution_count": 116,
   "id": "70441d65",
   "metadata": {
    "scrolled": true
   },
   "outputs": [],
   "source": [
    "datas = df2[['en나라', 'en관광지']].values"
   ]
  },
  {
   "cell_type": "code",
   "execution_count": 122,
   "id": "92951aa8",
   "metadata": {},
   "outputs": [
    {
     "data": {
      "text/html": [
       "<div>\n",
       "<style scoped>\n",
       "    .dataframe tbody tr th:only-of-type {\n",
       "        vertical-align: middle;\n",
       "    }\n",
       "\n",
       "    .dataframe tbody tr th {\n",
       "        vertical-align: top;\n",
       "    }\n",
       "\n",
       "    .dataframe thead th {\n",
       "        text-align: right;\n",
       "    }\n",
       "</style>\n",
       "<table border=\"1\" class=\"dataframe\">\n",
       "  <thead>\n",
       "    <tr style=\"text-align: right;\">\n",
       "      <th></th>\n",
       "      <th>나라</th>\n",
       "      <th>관광지</th>\n",
       "      <th>en나라</th>\n",
       "      <th>en관광지</th>\n",
       "    </tr>\n",
       "  </thead>\n",
       "  <tbody>\n",
       "    <tr>\n",
       "      <th>23</th>\n",
       "      <td>이탈리아</td>\n",
       "      <td>산 마르코 종탑</td>\n",
       "      <td>Italy</td>\n",
       "      <td>Campanile di San Marco</td>\n",
       "    </tr>\n",
       "  </tbody>\n",
       "</table>\n",
       "</div>"
      ],
      "text/plain": [
       "      나라       관광지   en나라                   en관광지\n",
       "23  이탈리아  산 마르코 종탑  Italy  Campanile di San Marco"
      ]
     },
     "execution_count": 122,
     "metadata": {},
     "output_type": "execute_result"
    }
   ],
   "source": [
    "df[df.en관광지 == 'Campanile di San Marco']"
   ]
  },
  {
   "cell_type": "code",
   "execution_count": 58,
   "id": "028f0e8a",
   "metadata": {},
   "outputs": [],
   "source": [
    "# https://stock.adobe.com/kr/search/images?filters%5Bcontent_type%3Aphoto%5D=1&filters%5Bcontent_type%3Aimage%5D=1&filters%5Breleases%3Ais_exclude%5D=1&k=Campanile di San Marco&order=relevance&safe_search=1&search_type=usertyped&limit=24&search_page=1&acp=&aco=Campanile di San Marco&get_facets=1"
   ]
  },
  {
   "cell_type": "code",
   "execution_count": 13,
   "id": "2c1e2735",
   "metadata": {
    "scrolled": true
   },
   "outputs": [
    {
     "data": {
      "text/plain": [
       "[]"
      ]
     },
     "execution_count": 13,
     "metadata": {},
     "output_type": "execute_result"
    }
   ],
   "source": [
    "res = requests.get(\"https://www.instagram.com/p/Cbumt2hJLps/\")\n",
    "soup = BeautifulSoup(res.text, 'html.parser')\n",
    "soup.select('main')"
   ]
  },
  {
   "cell_type": "code",
   "execution_count": null,
   "id": "fbc339d0",
   "metadata": {},
   "outputs": [],
   "source": [
    "# https://stock.adobe.com/kr/search/images?filters%5Bcontent_type%3Aphoto%5D=1&filters%5Bcontent_type%3Aimage%5D=1&filters%5Breleases%3Ais_exclude%5D=1&k=Escadaria%20Selaron&order=relevance&safe_search=1&search_type=usertyped&limit=25&search_page=1&acp=&aco=Escadaria%20Selaron&get_facets=1"
   ]
  },
  {
   "cell_type": "code",
   "execution_count": 123,
   "id": "9d25c025",
   "metadata": {
    "collapsed": true
   },
   "outputs": [
    {
     "name": "stdout",
     "output_type": "stream",
     "text": [
      "1500 Campanile di San Marco downloading... 1 2 3 4 5 6 7 8 9 10 11 12 13 14 15 16 17 18 19 20 21 22 23 24 25 26 27 28 29 30 31 32 33 34 35 36 37 38 39 40 41 42 43 44 45 46 47 48 49 50 51 52 53 54 55 56 57 58 59 1449 download successful\n",
      "1500 Leaning Tower of Pisa downloading... 1 2 3 4 5 6 7 8 9 10 11 12 13 14 15 16 17 18 19 20 21 22 23 24 25 26 27 28 29 30 31 32 33 34 35 36 37 38 39 40 41 42 43 44 45 46 47 48 49 50 51 52 53 54 55 56 57 58 59 1475 download successful\n",
      "1500 Staromestske namesti downloading... 1 2 3 4 5 6 7 8 9 10 11 12 13 14 15 16 17 18 19 20 21 22 23 24 25 26 27 28 29 30 31 32 33 34 35 36 37 38 39 40 41 42 43 44 45 46 47 48 49 50 51 52 53 54 55 56 57 58 59 1475 download successful\n",
      "1500 Blue Mosque downloading... 1 2 3 4 5 6 7 8 9 10 11 12 13 14 15 16 17 18 19 20 21 22 23 24 25 26 27 28 29 30 31 32 33 34 35 36 37 38 39 40 41 42 43 44 45 46 47 48 49 50 51 52 53 54 55 56 57 58 59 1475 download successful\n",
      "1500 Basilica Cistern downloading... 1 2 3 4 5 6 7 8 9 10 11 12 13 14 15 16 17 18 19 20 21 22 23 24 25 26 27 28 29 30 31 32 33 34 35 36 37 38 39 40 41 42 43 44 45 46 47 48 49 50 51 52 53 54 55 56 57 58 59 1426 download successful\n",
      "1458 Hadrian's Gate downloading... 1 2 3 4 5 6 7 8 9 10 11 12 13 14 15 16 17 18 19 20 21 22 23 24 25 26 27 28 29 30 31 32 33 34 35 36 37 38 39 40 41 42 43 44 45 46 47 48 49 50 51 52 53 54 55 56 57 58 59 1427 download successful\n",
      "1500 Louvre Museum downloading... 1 2 3 4 5 6 7 8 9 10 11 12 13 14 15 16 17 18 19 20 21 22 23 24 25 26 27 28 29 30 31 32 33 34 35 36 37 38 39 40 41 42 43 44 45 46 47 48 49 50 51 52 53 54 55 56 57 58 59 1475 download successful\n",
      "1500 Eiffel Tower downloading... 1 2 3 4 5 6 7 8 9 10 11 12 13 14 15 16 17 18 19 20 21 22 23 24 25 26 27 28 29 30 31 32 33 34 35 36 37 38 39 40 41 42 43 44 45 46 47 48 49 50 51 52 53 54 55 56 57 58 59 1475 download successful\n",
      "1500 Cathedrale Notre-Dame de Paris downloading... 1 2 3 4 5 6 7 8 9 10 11 12 13 14 15 16 17 18 19 20 21 22 23 24 25 26 27 28 29 30 31 32 33 34 35 36 37 38 39 40 41 42 43 44 45 46 47 48 49 50 51 52 53 54 55 56 57 58 59 1475 download successful\n",
      "1500 Arc de Triomphe downloading... 1 2 3 4 5 6 7 8 9 10 11 12 13 14 15 16 17 18 19 20 21 22 23 24 25 26 27 28 29 30 31 32 33 34 35 36 37 38 39 40 41 42 43 44 45 46 47 48 49 50 51 52 53 54 55 56 57 58 59 1475 download successful\n",
      "1110 Sainte-Chapelle downloading... 1 2 3 4 5 6 7 8 9 10 11 12 13 14 15 16 17 18 19 20 21 22 23 24 25 26 27 28 29 30 31 32 33 34 35 36 37 38 39 40 41 42 43 44 45 46 1110 download successful\n",
      "1043 Moulin Rouge downloading... 1 2 3 4 5 6 7 8 9 10 11 12 13 14 15 16 17 18 19 20 21 22 23 24 25 26 27 28 29 30 31 32 33 34 35 36 37 38 39 40 41 42 43 1043 download successful\n",
      "1500 Hotel de Ville downloading... 1 2 3 4 5 6 7 8 9 10 11 12 13 14 15 16 17 18 19 20 21 22 23 24 25 26 27 28 29 30 31 32 33 34 35 36 37 38 39 40 41 42 43 44 45 46 47 48 49 50 51 52 53 54 55 56 57 58 59 1448 download successful\n",
      "446 Manneken Pis downloading... 1 2 3 4 5 6 7 8 9 10 11 12 13 14 15 16 17 18 19 446 download successful\n",
      "1500 St. Stephen's Cathedral downloading... 1 2 3 4 5 6 7 8 9 10 11 12 13 14 15 16 17 18 19 20 21 22 23 24 25 26 27 28 29 30 31 32 33 34 35 36 37 38 39 40 41 42 43 44 45 46 47 48 49 50 51 52 53 54 55 56 57 58 59 1457 download successful\n",
      "1500 Torre de Belem downloading... 1 2 3 4 5 6 7 8 9 10 11 12 13 14 15 16 17 18 19 20 21 22 23 24 25 26 27 28 29 30 31 32 33 34 35 36 37 38 39 40 41 42 43 44 45 46 47 48 49 50 51 52 53 54 55 56 57 58 59 1475 download successful\n",
      "1500 Mosteiro dos Jeronimos downloading... 1 2 3 4 5 6 7 8 9 10 11 12 13 14 15 16 17 18 19 20 21 22 23 24 25 26 27 28 29 30 31 32 33 34 35 36 37 38 39 40 41 42 43 44 45 46 47 48 49 50 51 52 53 54 55 56 57 58 59 1475 download successful\n",
      "890 Panteao Nacional downloading... 1 2 3 4 5 6 7 8 9 10 11 12 13 14 15 16 17 18 19 20 21 22 23 24 25 26 27 28 29 30 31 32 33 34 35 36 37 890 download successful\n",
      "1500 Padrao dos Descobrimentos downloading... 1 2 3 4 5 6 7 8 9 10 11 12 13 14 15 16 17 18 19 20 21 22 23 24 25 26 27 28 29 30 31 32 33 34 35 36 37 38 39 40 41 42 43 44 45 46 47 48 49 50 51 52 53 54 55 56 57 58 59 1447 download successful\n",
      "736 Se de Lisboa downloading... 1 2 3 4 5 6 7 8 9 10 11 12 13 14 15 16 17 18 19 20 21 22 23 24 25 26 27 28 29 30 736 download successful\n",
      "1500 Chapel Bridge downloading... 1 2 3 4 5 6 7 8 9 10 11 12 13 14 15 16 17 18 19 20 21 22 23 24 25 26 27 28 29 30 31 32 33 34 35 36 37 38 39 40 41 42 43 44 45 46 47 48 49 50 51 52 53 54 55 56 57 58 59 1475 download successful\n",
      "1500 Basel Minster downloading... 1 2 3 4 5 6 7 8 9 10 11 12 13 14 15 16 17 18 19 20 21 22 23 24 25 26 27 28 29 30 31 32 33 34 35 36 37 38 39 40 41 42 43 44 45 46 47 48 49 50 51 52 53 54 55 56 57 58 59 1430 download successful\n",
      "119 Grgur Ninski Statue downloading... 1 2 3 4 5 119 download successful\n",
      "1500 Zadar Cathedral downloading... 1 2 3 4 5 6 7 8 9 10 11 12 13 14 15 16 17 18 19 20 21 22 23 24 25 26 27 28 29 30 31 32 33 34 35 36 37 38 39 40 41 42 43 44 45 46 47 48 49 50 51 52 53 54 55 56 57 58 59 1424 download successful\n"
     ]
    }
   ],
   "source": [
    "#datas = df[['en나라', 'en관광지']][56:].values\n",
    "page_limit = 25\n",
    "page_num = 60\n",
    "\n",
    "\n",
    "for data in datas[23:]:\n",
    "    country = data[0]\n",
    "    search_name = data[1]\n",
    "    count = 0\n",
    "    res = requests.get(f\"https://stock.adobe.com/kr/search/images?filters%5Bcontent_type%3Aphoto%5D=1&filters%5Bcontent_type%3Aimage%5D=1&filters%5Breleases%3Ais_exclude%5D=1&k={search_name}&order=relevance&safe_search=1&search_type=usertyped&limit={page_limit-1}&search_page=1&acp=&aco={search_name}&get_facets=1\")\n",
    "    soup = BeautifulSoup(res.text, 'html.parser')\n",
    "    string = soup.select('strong.text-sregular')[0].text\n",
    "    img_num = int(re.sub(r'[^0-9]', '', string))\n",
    "    max_count = page_limit * page_num\n",
    "    if max_count > img_num:\n",
    "        max_count = img_num\n",
    "    print(f\"{max_count} {search_name} downloading...\")\n",
    "    for page in range(1, page_num):\n",
    "        res = requests.get(f\"https://stock.adobe.com/kr/search/images?filters%5Bcontent_type%3Aphoto%5D=1&filters%5Bcontent_type%3Aimage%5D=1&filters%5Breleases%3Ais_exclude%5D=1&k={search_name}&order=relevance&safe_search=1&search_type=usertyped&limit={page_limit-1}&search_page={page}&acp=&aco={search_name}&get_facets=1\")\n",
    "        soup = BeautifulSoup(res.text, 'html.parser')\n",
    "        div = soup.select('picture > source')\n",
    "        for i, img in enumerate(div):\n",
    "            url = img['srcset']\n",
    "            \n",
    "            ## 유럽 나라별 크롤링\n",
    "            if not os.path.exists(f\"country_img/{country}\"):\n",
    "                os.makedirs(f\"country_img/{country}\")\n",
    "            urllib.request.urlretrieve(url, f\"country_img/{country}/{search_name + str(count)}.jpg\")\n",
    "            \n",
    "            ## 나라별/ 관광지별 크롤링\n",
    "#             if not os.path.exists(f\"img/{country}/{search_name}\"):\n",
    "#                 os.makedirs(f\"img/{country}/{search_name}\")\n",
    "#             urllib.request.urlretrieve(url, f\"img/{country}/{search_name}/{count}.jpg\")\n",
    "\n",
    "            ## imagedatagenerator용 train,validation,test별 크롤링\n",
    "#             if count <= (max_count * 0.6):\n",
    "#                 if not os.path.exists(f\"img_gen/train/{search_name}\"):\n",
    "#                     os.makedirs(f\"img_gen/train/{search_name}\")\n",
    "#                 urllib.request.urlretrieve(url, f\"img_gen/train/{search_name}/{count}.jpg\")\n",
    "#             elif count <= (max_count * 0.8):\n",
    "#                 if not os.path.exists(f\"img_gen/validataion/{search_name}\"):\n",
    "#                     os.makedirs(f\"img_gen/validataion/{search_name}\")\n",
    "#                 urllib.request.urlretrieve(url, f\"img_gen/validataion/{search_name}/{count}.jpg\")\n",
    "#             else:\n",
    "#                 if not os.path.exists(f\"img_gen/test/{search_name}\"):\n",
    "#                     os.makedirs(f\"img_gen/test/{search_name}\")\n",
    "#                 urllib.request.urlretrieve(url, f\"img_gen/test/{search_name}/{count}.jpg\")\n",
    "                \n",
    "            count += 1\n",
    "        print(page)\n",
    "        if count >= max_count:\n",
    "            break\n",
    "    \n",
    "    print(f\"{count} download successful\")\n"
   ]
  },
  {
   "cell_type": "code",
   "execution_count": 10,
   "id": "0c2aafde",
   "metadata": {},
   "outputs": [
    {
     "data": {
      "text/html": [
       "<div>\n",
       "<style scoped>\n",
       "    .dataframe tbody tr th:only-of-type {\n",
       "        vertical-align: middle;\n",
       "    }\n",
       "\n",
       "    .dataframe tbody tr th {\n",
       "        vertical-align: top;\n",
       "    }\n",
       "\n",
       "    .dataframe thead th {\n",
       "        text-align: right;\n",
       "    }\n",
       "</style>\n",
       "<table border=\"1\" class=\"dataframe\">\n",
       "  <thead>\n",
       "    <tr style=\"text-align: right;\">\n",
       "      <th></th>\n",
       "      <th>나라</th>\n",
       "      <th>관광지</th>\n",
       "      <th>en나라</th>\n",
       "      <th>en관광지</th>\n",
       "      <th>유형</th>\n",
       "      <th>Unnamed: 5</th>\n",
       "    </tr>\n",
       "  </thead>\n",
       "  <tbody>\n",
       "    <tr>\n",
       "      <th>56</th>\n",
       "      <td>중국</td>\n",
       "      <td>광저우 타워</td>\n",
       "      <td>China</td>\n",
       "      <td>Canton Tower</td>\n",
       "      <td>건축물</td>\n",
       "      <td>랜드마크</td>\n",
       "    </tr>\n",
       "    <tr>\n",
       "      <th>57</th>\n",
       "      <td>중국</td>\n",
       "      <td>병마용</td>\n",
       "      <td>China</td>\n",
       "      <td>qin terracotta warriors</td>\n",
       "      <td>유적</td>\n",
       "      <td>고대유적</td>\n",
       "    </tr>\n",
       "    <tr>\n",
       "      <th>58</th>\n",
       "      <td>중국</td>\n",
       "      <td>만리장성</td>\n",
       "      <td>China</td>\n",
       "      <td>The Great Wall</td>\n",
       "      <td>유적</td>\n",
       "      <td>고대유적</td>\n",
       "    </tr>\n",
       "    <tr>\n",
       "      <th>59</th>\n",
       "      <td>중국</td>\n",
       "      <td>자금성</td>\n",
       "      <td>China</td>\n",
       "      <td>Forbidden City</td>\n",
       "      <td>NaN</td>\n",
       "      <td>NaN</td>\n",
       "    </tr>\n",
       "    <tr>\n",
       "      <th>60</th>\n",
       "      <td>중국</td>\n",
       "      <td>포탈라 궁</td>\n",
       "      <td>China</td>\n",
       "      <td>Potala Palace</td>\n",
       "      <td>건축물</td>\n",
       "      <td>NaN</td>\n",
       "    </tr>\n",
       "  </tbody>\n",
       "</table>\n",
       "</div>"
      ],
      "text/plain": [
       "    나라     관광지   en나라                    en관광지   유형 Unnamed: 5\n",
       "56  중국  광저우 타워  China             Canton Tower  건축물       랜드마크\n",
       "57  중국     병마용  China  qin terracotta warriors   유적       고대유적\n",
       "58  중국    만리장성  China           The Great Wall   유적       고대유적\n",
       "59  중국     자금성  China           Forbidden City  NaN        NaN\n",
       "60  중국   포탈라 궁  China            Potala Palace  건축물        NaN"
      ]
     },
     "execution_count": 10,
     "metadata": {},
     "output_type": "execute_result"
    }
   ],
   "source": [
    "df[df['나라'] == '중국']"
   ]
  },
  {
   "cell_type": "code",
   "execution_count": 12,
   "id": "3f7e8bec",
   "metadata": {},
   "outputs": [
    {
     "name": "stdout",
     "output_type": "stream",
     "text": [
      "==================================================\n",
      "100 download successful\n",
      "==================================================\n"
     ]
    }
   ],
   "source": [
    "page_limit = 25\n",
    "page_num = 5\n",
    "crawling_num = 20\n",
    "\n",
    "country = 'China'\n",
    "search_name = 'qin terracotta warriors'\n",
    "count = 0\n",
    "for page in range(page_num):\n",
    "    res = requests.get(f\"https://stock.adobe.com/kr/search/images?filters%5Bcontent_type%3Aphoto%5D=1&filters%5Bcontent_type%3Aimage%5D=1&filters%5Breleases%3Ais_exclude%5D=1&k={search_name}&order=relevance&safe_search=1&search_type=usertyped&limit={page_limit - 1}&search_page={page}&acp=&aco={search_name}&get_facets=1\")\n",
    "    soup = BeautifulSoup(res.text, 'html.parser')\n",
    "    div = soup.select('picture > source')[:20]\n",
    "    for i, img in enumerate(div):\n",
    "        url = img['srcset']\n",
    "        if not os.path.exists(f\"img/{country}\"):\n",
    "            os.makedirs(f\"img/{country}\")\n",
    "        if not os.path.exists(f\"img/{country}/{search_name}\"):\n",
    "            os.makedirs(f\"img/{country}/{search_name}\")\n",
    "        urllib.request.urlretrieve(url, f\"img/{country}/{search_name}/{count}.jpg\")\n",
    "        #print(\"download successful\")\n",
    "        count += 1\n",
    "print('=' * 50)\n",
    "print(country, count, 'download successful')\n",
    "print('=' * 50)"
   ]
  },
  {
   "cell_type": "code",
   "execution_count": null,
   "id": "62f9b3b4",
   "metadata": {},
   "outputs": [],
   "source": []
  }
 ],
 "metadata": {
  "kernelspec": {
   "display_name": "Python 3 (ipykernel)",
   "language": "python",
   "name": "python3"
  },
  "language_info": {
   "codemirror_mode": {
    "name": "ipython",
    "version": 3
   },
   "file_extension": ".py",
   "mimetype": "text/x-python",
   "name": "python",
   "nbconvert_exporter": "python",
   "pygments_lexer": "ipython3",
   "version": "3.9.7"
  }
 },
 "nbformat": 4,
 "nbformat_minor": 5
}
